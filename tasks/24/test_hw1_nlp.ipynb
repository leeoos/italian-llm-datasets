{
  "cells": [
    {
      "cell_type": "markdown",
      "metadata": {
        "colab_type": "text",
        "id": "view-in-github"
      },
      "source": [
        "<a href=\"https://colab.research.google.com/github/leeoos/llm-dataset/blob/main/datasets/24/test_hw1_nlp.ipynb\" target=\"_parent\"><img src=\"https://colab.research.google.com/assets/colab-badge.svg\" alt=\"Open In Colab\"/></a>"
      ]
    },
    {
      "cell_type": "markdown",
      "metadata": {
        "id": "ktMkKaQIbZKm"
      },
      "source": [
        "# Imports"
      ]
    },
    {
      "cell_type": "code",
      "execution_count": null,
      "metadata": {
        "id": "LPR0vvU09SVZ"
      },
      "outputs": [],
      "source": [
        "import requests\n",
        "import json"
      ]
    },
    {
      "cell_type": "markdown",
      "metadata": {
        "id": "zfq0rqo5fzAQ"
      },
      "source": [
        "# Classification task"
      ]
    },
    {
      "cell_type": "code",
      "execution_count": null,
      "metadata": {
        "id": "VdFcAsWVf2rw"
      },
      "outputs": [],
      "source": [
        "# dummy example data\n",
        "with open(\"dummy_bin_class.json\", \"w\") as dbj:\n",
        "    ddbj = {\n",
        "        \"passage\": \"Good Samaritan laws offer legal protection to people who give reasonable assistance to those who are, or who they believe to be, injured, ill, in peril, or otherwise\",\n",
        "        \"question\": \"do good samaritan laws protect those who help at an accident\",\n",
        "        \"answer\": \"true\"\n",
        "    }\n",
        "    json.dump(ddbj, dbj, indent=4)\n"
      ]
    },
    {
      "cell_type": "markdown",
      "metadata": {
        "id": "8n8ZM_WkbcZp"
      },
      "source": [
        "# Generative task"
      ]
    },
    {
      "cell_type": "markdown",
      "metadata": {
        "id": "4NhkdiFqbgok"
      },
      "source": [
        "## Babelnet distractor generation"
      ]
    },
    {
      "cell_type": "code",
      "execution_count": null,
      "metadata": {
        "id": "zGYRKudwDjz_"
      },
      "outputs": [],
      "source": [
        "def get_related_concepts(term, api_key):\n",
        "    \"\"\"Fetches related concepts or entities for a given term using the BabelNet API.\"\"\"\n",
        "    url = \"https://babelnet.io/v5/getSynsetIds\"\n",
        "    params = {\n",
        "        'lemma': term,\n",
        "        'searchLang': 'EN',  # Language code\n",
        "        'key': api_key,\n",
        "    }\n",
        "    response = requests.get(url, params=params)\n",
        "    if response.ok:\n",
        "        return response.json()\n",
        "    else:\n",
        "        return None\n",
        "\n",
        "def get_synset_details(synset_id, api_key):\n",
        "    \"\"\"Fetches details for a given synset ID using the BabelNet API.\"\"\"\n",
        "    url = \"https://babelnet.io/v5/getSynset\"\n",
        "    params = {\n",
        "        'id': synset_id,\n",
        "        'key': api_key,\n",
        "    }\n",
        "    response = requests.get(url, params=params)\n",
        "    if response.ok:\n",
        "        return response.json()\n",
        "    else:\n",
        "        return None"
      ]
    },
    {
      "cell_type": "code",
      "execution_count": null,
      "metadata": {
        "colab": {
          "base_uri": "https://localhost:8080/"
        },
        "id": "pcMvpUHxESHI",
        "outputId": "6798b06b-4506-4d6e-94ba-d0582cc1ba89"
      },
      "outputs": [
        {
          "name": "stdout",
          "output_type": "stream",
          "text": [
            "[{'id': 'bn:00152097n', 'pos': 'NOUN', 'source': 'BABELNET'}, {'id': 'bn:03568504n', 'pos': 'NOUN', 'source': 'BABELNET'}, {'id': 'bn:01918409n', 'pos': 'NOUN', 'source': 'BABELNET'}, {'id': 'bn:14782149n', 'pos': 'NOUN', 'source': 'BABELNET'}, {'id': 'bn:21535149n', 'pos': 'NOUN', 'source': 'BABELNET'}, {'id': 'bn:01289069n', 'pos': 'NOUN', 'source': 'BABELNET'}, {'id': 'bn:03117401n', 'pos': 'NOUN', 'source': 'BABELNET'}, {'id': 'bn:15643478n', 'pos': 'NOUN', 'source': 'BABELNET'}, {'id': 'bn:01714929n', 'pos': 'NOUN', 'source': 'BABELNET'}, {'id': 'bn:00741282n', 'pos': 'NOUN', 'source': 'BABELNET'}, {'id': 'bn:03095885n', 'pos': 'NOUN', 'source': 'BABELNET'}, {'id': 'bn:17606871n', 'pos': 'NOUN', 'source': 'BABELNET'}]\n"
          ]
        }
      ],
      "source": [
        "key_concept = \"Benito Juárez\"\n",
        "# key_concept = \"Donald Trump\"\n",
        "\n",
        "api_key = \"b9d110fe-3823-4542-b762-09bbe28365b0\"\n",
        "related_concepts = get_related_concepts(key_concept, api_key)\n",
        "print(related_concepts)\n",
        "\n",
        "synset_id = related_concepts[0].get('id')\n",
        "synset_details = get_synset_details(synset_id, api_key)\n",
        "print(synset_id)"
      ]
    },
    {
      "cell_type": "code",
      "execution_count": null,
      "metadata": {
        "id": "5abgcOb-EjGo"
      },
      "outputs": [],
      "source": [
        "print(synset_details.get('senses', []))\n",
        "for sense in synset_details.get('senses', []):\n",
        "    properties = sense.get('properties', {})\n",
        "    lemma = properties.get('fullLemma', '')\n",
        "    print(lemma)\n"
      ]
    },
    {
      "cell_type": "markdown",
      "metadata": {
        "id": "SqRP8ChVcZRE"
      },
      "source": [
        "## Wikidata api"
      ]
    }
  ],
  "metadata": {
    "colab": {
      "authorship_tag": "ABX9TyMfWZg6XSlhSYMZ7O1prc66",
      "include_colab_link": true,
      "provenance": []
    },
    "kernelspec": {
      "display_name": "Python 3",
      "name": "python3"
    },
    "language_info": {
      "name": "python"
    }
  },
  "nbformat": 4,
  "nbformat_minor": 0
}
