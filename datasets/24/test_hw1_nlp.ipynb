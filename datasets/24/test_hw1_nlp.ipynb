{
  "nbformat": 4,
  "nbformat_minor": 0,
  "metadata": {
    "colab": {
      "provenance": [],
      "authorship_tag": "ABX9TyMfWZg6XSlhSYMZ7O1prc66",
      "include_colab_link": true
    },
    "kernelspec": {
      "name": "python3",
      "display_name": "Python 3"
    },
    "language_info": {
      "name": "python"
    }
  },
  "cells": [
    {
      "cell_type": "markdown",
      "metadata": {
        "id": "view-in-github",
        "colab_type": "text"
      },
      "source": [
        "<a href=\"https://colab.research.google.com/github/leeoos/llm-dataset/blob/main/datasets/24/test_hw1_nlp.ipynb\" target=\"_parent\"><img src=\"https://colab.research.google.com/assets/colab-badge.svg\" alt=\"Open In Colab\"/></a>"
      ]
    },
    {
      "cell_type": "markdown",
      "source": [
        "# Imports"
      ],
      "metadata": {
        "id": "ktMkKaQIbZKm"
      }
    },
    {
      "cell_type": "code",
      "source": [
        "import requests\n",
        "import json"
      ],
      "metadata": {
        "id": "LPR0vvU09SVZ"
      },
      "execution_count": null,
      "outputs": []
    },
    {
      "cell_type": "markdown",
      "source": [
        "# Classification task"
      ],
      "metadata": {
        "id": "zfq0rqo5fzAQ"
      }
    },
    {
      "cell_type": "code",
      "source": [
        "# dummy example data\n",
        "with open(\"dummy_bin_class.json\", \"w\") as dbj:\n",
        "    ddbj = {\n",
        "        \"passage\": \"Good Samaritan laws offer legal protection to people who give reasonable assistance to those who are, or who they believe to be, injured, ill, in peril, or otherwise\",\n",
        "        \"question\": \"do good samaritan laws protect those who help at an accident\",\n",
        "        \"answer\": \"true\"\n",
        "    }\n",
        "    json.dump(ddbj, dbj, indent=4)\n"
      ],
      "metadata": {
        "id": "VdFcAsWVf2rw"
      },
      "execution_count": null,
      "outputs": []
    },
    {
      "cell_type": "markdown",
      "source": [
        "# Generative task"
      ],
      "metadata": {
        "id": "8n8ZM_WkbcZp"
      }
    },
    {
      "cell_type": "markdown",
      "source": [
        "## Babelnet distractor generation"
      ],
      "metadata": {
        "id": "4NhkdiFqbgok"
      }
    },
    {
      "cell_type": "code",
      "source": [
        "def get_related_concepts(term, api_key):\n",
        "    \"\"\"Fetches related concepts or entities for a given term using the BabelNet API.\"\"\"\n",
        "    url = \"https://babelnet.io/v5/getSynsetIds\"\n",
        "    params = {\n",
        "        'lemma': term,\n",
        "        'searchLang': 'EN',  # Language code\n",
        "        'key': api_key,\n",
        "    }\n",
        "    response = requests.get(url, params=params)\n",
        "    if response.ok:\n",
        "        return response.json()\n",
        "    else:\n",
        "        return None\n",
        "\n",
        "def get_synset_details(synset_id, api_key):\n",
        "    \"\"\"Fetches details for a given synset ID using the BabelNet API.\"\"\"\n",
        "    url = \"https://babelnet.io/v5/getSynset\"\n",
        "    params = {\n",
        "        'id': synset_id,\n",
        "        'key': api_key,\n",
        "    }\n",
        "    response = requests.get(url, params=params)\n",
        "    if response.ok:\n",
        "        return response.json()\n",
        "    else:\n",
        "        return None"
      ],
      "metadata": {
        "id": "zGYRKudwDjz_"
      },
      "execution_count": null,
      "outputs": []
    },
    {
      "cell_type": "code",
      "source": [
        "key_concept = \"Benito Juárez\"\n",
        "# key_concept = \"Donald Trump\"\n",
        "\n",
        "api_key = \"b9d110fe-3823-4542-b762-09bbe28365b0\"\n",
        "related_concepts = get_related_concepts(key_concept, api_key)\n",
        "print(related_concepts)\n",
        "\n",
        "synset_id = related_concepts[0].get('id')\n",
        "synset_details = get_synset_details(synset_id, api_key)\n",
        "print(synset_id)"
      ],
      "metadata": {
        "id": "pcMvpUHxESHI",
        "colab": {
          "base_uri": "https://localhost:8080/"
        },
        "outputId": "6798b06b-4506-4d6e-94ba-d0582cc1ba89"
      },
      "execution_count": null,
      "outputs": [
        {
          "output_type": "stream",
          "name": "stdout",
          "text": [
            "[{'id': 'bn:00152097n', 'pos': 'NOUN', 'source': 'BABELNET'}, {'id': 'bn:03568504n', 'pos': 'NOUN', 'source': 'BABELNET'}, {'id': 'bn:01918409n', 'pos': 'NOUN', 'source': 'BABELNET'}, {'id': 'bn:14782149n', 'pos': 'NOUN', 'source': 'BABELNET'}, {'id': 'bn:21535149n', 'pos': 'NOUN', 'source': 'BABELNET'}, {'id': 'bn:01289069n', 'pos': 'NOUN', 'source': 'BABELNET'}, {'id': 'bn:03117401n', 'pos': 'NOUN', 'source': 'BABELNET'}, {'id': 'bn:15643478n', 'pos': 'NOUN', 'source': 'BABELNET'}, {'id': 'bn:01714929n', 'pos': 'NOUN', 'source': 'BABELNET'}, {'id': 'bn:00741282n', 'pos': 'NOUN', 'source': 'BABELNET'}, {'id': 'bn:03095885n', 'pos': 'NOUN', 'source': 'BABELNET'}, {'id': 'bn:17606871n', 'pos': 'NOUN', 'source': 'BABELNET'}]\n"
          ]
        }
      ]
    },
    {
      "cell_type": "code",
      "source": [
        "print(synset_details.get('senses', []))\n",
        "for sense in synset_details.get('senses', []):\n",
        "    properties = sense.get('properties', {})\n",
        "    lemma = properties.get('fullLemma', '')\n",
        "    print(lemma)\n"
      ],
      "metadata": {
        "id": "5abgcOb-EjGo"
      },
      "execution_count": null,
      "outputs": []
    },
    {
      "cell_type": "markdown",
      "source": [
        "## Wikidata api"
      ],
      "metadata": {
        "id": "SqRP8ChVcZRE"
      }
    },
    {
      "cell_type": "code",
      "source": [],
      "metadata": {
        "id": "0cuhj_UrcYP9"
      },
      "execution_count": null,
      "outputs": []
    }
  ]
}